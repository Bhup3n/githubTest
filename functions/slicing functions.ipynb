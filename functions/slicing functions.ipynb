{
 "cells": [
  {
   "cell_type": "code",
   "execution_count": null,
   "metadata": {
    "collapsed": true
   },
   "outputs": [],
   "source": [
    "this function can be used to slice a string in the midddle\n",
    "\n",
    "the paramaters would be\n",
    "def name_of_function(string_name, start, end):\n",
    "\n",
    "an example is below"
   ]
  },
  {
   "cell_type": "code",
   "execution_count": 15,
   "outputs": [
    {
     "data": {
      "text/plain": "'mpu'"
     },
     "execution_count": 15,
     "metadata": {},
     "output_type": "execute_result"
    }
   ],
   "source": [
    "def slice_mid(string_name, start, end):     #these paramaters get filled in by our values at the end so these can be names whatever, but does need to be the same name if you use it elsewhere\n",
    "    sliced_string = \"\"     #this is needed because we need an empty variable for this ----------\n",
    "    for position in range(start, end + 1):     #                                               |\n",
    "        sliced_string += string_name[position]   #            <----------------------------------\n",
    "    return sliced_string      #you have to return this value\n",
    "\n",
    "slice_mid(\"computer\", 2, 4)   #it will only print out index 2,3,4"
   ],
   "metadata": {
    "collapsed": false
   }
  },
  {
   "cell_type": "code",
   "execution_count": 17,
   "outputs": [
    {
     "data": {
      "text/plain": "'supercalifradgy'"
     },
     "execution_count": 17,
     "metadata": {},
     "output_type": "execute_result"
    }
   ],
   "source": [
    "#this is going to keep the beginning characters\n",
    "\n",
    "def slice_left(string_name, start):\n",
    "    sliced_string = \"\"\n",
    "    for position in range(start):\n",
    "        sliced_string += string_name[position]\n",
    "    return sliced_string\n",
    "\n",
    "user_word = input(\"what word do you want to slice:\")\n",
    "user_slice = int(input(\"how many beggining characters do you want to keep:\"))\n",
    "slice_left(user_word, user_slice)"
   ],
   "metadata": {
    "collapsed": false
   }
  },
  {
   "cell_type": "code",
   "execution_count": 5,
   "outputs": [
    {
     "data": {
      "text/plain": "'ol'"
     },
     "execution_count": 5,
     "metadata": {},
     "output_type": "execute_result"
    }
   ],
   "source": [
    "#this is going to keep the end characters\n",
    "\n",
    "def slice_right(string_name, end):\n",
    "    sliced_string = \"\"\n",
    "    for position in range(end):\n",
    "        sliced_string += string_name[position]\n",
    "    return sliced_string\n",
    "\n",
    "user_word = input(\"what word do you want to slice:\")\n",
    "user_slice = int(input(\"how many end characters do you want to keep:\"))\n",
    "user_word_r = \"\"\n",
    "for i in user_word:\n",
    "    user_word_r = i + user_word_r\n",
    "\n",
    "slice_right(user_word_r, user_slice)"
   ],
   "metadata": {
    "collapsed": false
   }
  }
 ],
 "metadata": {
  "kernelspec": {
   "display_name": "Python 3",
   "language": "python",
   "name": "python3"
  },
  "language_info": {
   "codemirror_mode": {
    "name": "ipython",
    "version": 2
   },
   "file_extension": ".py",
   "mimetype": "text/x-python",
   "name": "python",
   "nbconvert_exporter": "python",
   "pygments_lexer": "ipython2",
   "version": "2.7.6"
  }
 },
 "nbformat": 4,
 "nbformat_minor": 0
}

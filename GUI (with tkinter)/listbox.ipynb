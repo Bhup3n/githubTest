{
 "cells": [
  {
   "cell_type": "code",
   "execution_count": 2,
   "metadata": {
    "collapsed": true
   },
   "outputs": [
    {
     "name": "stdout",
     "output_type": "stream",
     "text": [
      "you ordered a: soup\n"
     ]
    }
   ],
   "source": [
    "\n",
    "#this is to have a listbox to select a singular item at a time\n",
    "\n",
    "from tkinter import *\n",
    "\n",
    "#listbox = list of items which you can select within its own container\n",
    "\n",
    "def submit():\n",
    "    print(\"you ordered a:\", listbox.get(listbox.curselection()))      #prints what the user selected,  the listbox.curselection means that the program knows what the user selected\n",
    "\n",
    "def add():\n",
    "    listbox.insert(listbox.size(), entrybox.get())         #we insert an entry box inside of the list, and if the user adds something, we add it to the bottom of the list\n",
    "    listbox.config(height=listbox.size())                  #we do this to increase the size of the listbox to accomodate for the new order\n",
    "\n",
    "def delete():\n",
    "    listbox.delete(listbox.curselection())       #to delete an item in a listbox, we do this\n",
    "    listbox.config(height=listbox.size())        #to readjust the height after the deletion of an item\n",
    "\n",
    "window = Tk()\n",
    "\n",
    "listbox = Listbox(window,\n",
    "                  bg=\"#f7ffde\",\n",
    "                  font=(\"Constantia\", 35),\n",
    "                  width=10)\n",
    "listbox.pack()\n",
    "\n",
    "listbox.insert(1, \"pizza\")        #this inserts the choices you have that you can select\n",
    "listbox.insert(2, \"pasta\")          #listbox.insert(index, item)\n",
    "listbox.insert(3, \"bread\")\n",
    "listbox.insert(4, \"soup\")\n",
    "listbox.insert(5, \"naan\")\n",
    "\n",
    "listbox.config(height=listbox.size())    #changing the height so it adjusts the height itself depending on how many items there are\n",
    "\n",
    "entrybox= Entry(window)\n",
    "entrybox.pack()\n",
    "\n",
    "submit = Button(window,\n",
    "                text=\"submit\",\n",
    "                command=submit)\n",
    "submit.pack()\n",
    "\n",
    "add = Button(window,                #lets the user create an entrybox to put their own dish in the list\n",
    "             text = \"add\",\n",
    "             command=add)\n",
    "add.pack()\n",
    "\n",
    "delete = Button(window,\n",
    "                text=\"delete\",\n",
    "                command=delete)\n",
    "delete.pack()\n",
    "\n",
    "window.mainloop()"
   ]
  },
  {
   "cell_type": "code",
   "execution_count": 4,
   "outputs": [
    {
     "name": "stdout",
     "output_type": "stream",
     "text": [
      "you have ordered:\n",
      "pizza\n",
      "milk\n"
     ]
    }
   ],
   "source": [
    "#this is a listbox to select multiple items at a time\n",
    "\n",
    "\n",
    "from tkinter import *\n",
    "\n",
    "#listbox = list of items which you can select within its own container\n",
    "\n",
    "def submit():\n",
    "    food = []\n",
    "\n",
    "    for i in listbox.curselection():\n",
    "        food.insert(i, listbox.get(i))        #this is going to iterate(repeat) once for each item we select, for eg if we have 3 items selected, it is going to iterate(repeat) 3                                      times and get the index number and the item at that index number\n",
    "    print(\"you have ordered:\")\n",
    "    for i in food:\n",
    "        print(i)\n",
    "\n",
    "\n",
    "def add():\n",
    "    listbox.insert(listbox.size(), entrybox.get())\n",
    "    listbox.config(height=listbox.size())                  #we do this to increase the size of the listbox to accomodate for the new order\n",
    "\n",
    "def delete():\n",
    "    for i in reversed(listbox.curselection()):     #we have to put reversed because otherwise the items change index when one item deletes and we want the highest index deleted so                                                     it deletes every single index we want deleted and not just all of them apart from one\n",
    "        listbox.delete(i)                          #this deletes the item which is on index i which is whatever the user has selected\n",
    "    listbox.config(height=listbox.size())        #to readjust the height after the deletion of an item\n",
    "\n",
    "window = Tk()\n",
    "\n",
    "listbox = Listbox(window,\n",
    "                  bg=\"#f7ffde\",\n",
    "                  font=(\"Constantia\", 35),\n",
    "                  width=10,\n",
    "                  selectmode=MULTIPLE,          #to allow us to selct multiple items\n",
    "                  )\n",
    "listbox.pack()\n",
    "\n",
    "listbox.insert(1, \"pizza\")        #this inserts the choices you have that you can select\n",
    "listbox.insert(2, \"pasta\")          #listbox.insert(index, item)\n",
    "listbox.insert(3, \"bread\")\n",
    "listbox.insert(4, \"soup\")\n",
    "listbox.insert(5, \"naan\")\n",
    "\n",
    "listbox.config(height=listbox.size())    #changing the height so it adjusts the height itself depending on how many items there are\n",
    "\n",
    "entrybox= Entry(window)\n",
    "entrybox.pack()\n",
    "\n",
    "submit = Button(window,\n",
    "                text=\"submit\",\n",
    "                command=submit)\n",
    "submit.pack()\n",
    "\n",
    "add = Button(window,                #lets the user create an entrybox to put their own dish in the list\n",
    "             text = \"add\",\n",
    "             command=add)\n",
    "add.pack()\n",
    "\n",
    "delete = Button(window,\n",
    "                text=\"delete\",\n",
    "                command=delete)\n",
    "delete.pack()\n",
    "\n",
    "window.mainloop()"
   ],
   "metadata": {
    "collapsed": false
   }
  }
 ],
 "metadata": {
  "kernelspec": {
   "display_name": "Python 3",
   "language": "python",
   "name": "python3"
  },
  "language_info": {
   "codemirror_mode": {
    "name": "ipython",
    "version": 2
   },
   "file_extension": ".py",
   "mimetype": "text/x-python",
   "name": "python",
   "nbconvert_exporter": "python",
   "pygments_lexer": "ipython2",
   "version": "2.7.6"
  }
 },
 "nbformat": 4,
 "nbformat_minor": 0
}

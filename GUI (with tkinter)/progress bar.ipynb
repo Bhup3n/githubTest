{
 "cells": [
  {
   "cell_type": "code",
   "execution_count": 1,
   "metadata": {
    "collapsed": true
   },
   "outputs": [],
   "source": [
    "#this is a raw version of it\n",
    "\n",
    "\n",
    "from tkinter import *\n",
    "from tkinter.ttk import *\n",
    "import time\n",
    "\n",
    "def start():\n",
    "    tasks = 10\n",
    "    x = 0\n",
    "    while x < tasks:\n",
    "        time.sleep(1)\n",
    "        bar[\"value\"] += 10       #increases the value of the progress bar by 10 for each task that we have\n",
    "        x += 1\n",
    "        percent.set(str(int(100 * x / tasks)) + \"%\")   #sets what the percent is\n",
    "        text.set(str(x)+\"/\"+str(tasks)+ \" tasks completed\")   #printing the counter (x) out of the tasks (10) so it would print x/tasks tasks completed\n",
    "        window.update_idletasks()  #refreshes the window after each iteration of the while loop\n",
    "\n",
    "window = Tk()\n",
    "\n",
    "percent = StringVar()\n",
    "text = StringVar()\n",
    "\n",
    "bar = Progressbar(window, orient=HORIZONTAL, length=300)\n",
    "bar.pack(pady=10)\n",
    "\n",
    "percent_label = Label(window, textvariable=percent).pack()     #we use a text variable so we can update the label with text after each iteration of our while loop\n",
    "task_label = Label(window, textvariable=text).pack()\n",
    "\n",
    "button = Button(window, text=\"donwload\", command=start).pack()\n",
    "\n",
    "window.mainloop()"
   ]
  },
  {
   "cell_type": "code",
   "execution_count": 1,
   "outputs": [],
   "source": [
    "#this is an example use of it\n",
    "\n",
    "\n",
    "from tkinter import *\n",
    "from tkinter.ttk import *\n",
    "import time\n",
    "\n",
    "def start():\n",
    "    GB = 100\n",
    "    download = 0\n",
    "    speed = 1\n",
    "    while download < GB:\n",
    "        time.sleep(0.05)\n",
    "        bar[\"value\"] += (speed/GB)*100       #increases the value of the progress bar by 1 for each GB that we have\n",
    "        download += speed\n",
    "        percent.set(str(int(100 * download / GB)) + \"%\")   #sets what the percent is\n",
    "        text.set(str(download)+\"/\"+str(GB)+ \" GB completed\")   #printing the counter (download) out of the GB (100) so it would print download/GB GB completed\n",
    "        window.update_idletasks()  #refreshes the window after each iteration of the while loop\n",
    "\n",
    "window = Tk()\n",
    "\n",
    "\n",
    "percent = StringVar()\n",
    "text = StringVar()\n",
    "\n",
    "bar = Progressbar(window, orient=HORIZONTAL, length=300)\n",
    "bar.pack(pady=10)\n",
    "\n",
    "percent_label = Label(window, textvariable=percent).pack()     #we use a text variable so we can update the label with text after each iteration of our while loop\n",
    "task_label = Label(window, textvariable=text).pack()\n",
    "\n",
    "button = Button(window, text=\"donwload\", command=start).pack()\n",
    "\n",
    "window.mainloop()\n"
   ],
   "metadata": {
    "collapsed": false
   }
  }
 ],
 "metadata": {
  "kernelspec": {
   "display_name": "Python 3",
   "language": "python",
   "name": "python3"
  },
  "language_info": {
   "codemirror_mode": {
    "name": "ipython",
    "version": 2
   },
   "file_extension": ".py",
   "mimetype": "text/x-python",
   "name": "python",
   "nbconvert_exporter": "python",
   "pygments_lexer": "ipython2",
   "version": "2.7.6"
  }
 },
 "nbformat": 4,
 "nbformat_minor": 0
}

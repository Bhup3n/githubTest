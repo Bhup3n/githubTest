{
 "cells": [
  {
   "cell_type": "code",
   "execution_count": 30,
   "metadata": {
    "collapsed": true
   },
   "outputs": [],
   "source": [
    "#move image in a window\n",
    "\n",
    "def up(event):\n",
    "    label.place(x=label.winfo_x(), y=label.winfo_y() - 10)       #the label.winfo finds the current position and if we -10 from current y, it goes up\n",
    "\n",
    "def down(event):\n",
    "    label.place(x=label.winfo_x(), y=label.winfo_y() + 10)\n",
    "\n",
    "def left(event):\n",
    "    label.place(x=label.winfo_x() - 10, y=label.winfo_y())\n",
    "\n",
    "def right(event):\n",
    "    label.place(x=label.winfo_x() + 10, y=label.winfo_y())\n",
    "\n",
    "from tkinter import *\n",
    "\n",
    "window = Tk()\n",
    "window.geometry(\"1820x980\")\n",
    "\n",
    "window.bind(\"<w>\", up)\n",
    "window.bind(\"<s>\", down)\n",
    "window.bind(\"<a>\", left)\n",
    "window.bind(\"<d>\", right)\n",
    "window.bind(\"<Up>\", up)\n",
    "window.bind(\"<Down>\", down)        #arrow keys = Up, down, left ,right\n",
    "window.bind(\"<Left>\", left)\n",
    "window.bind(\"<Right>\", right)\n",
    "\n",
    "image = PhotoImage(file=\"photos\\\\racecar.png\")\n",
    "\n",
    "label = Label(window, image=image, bg=\"red\")\n",
    "label.place(x=0, y=0)   #places label at top left\n",
    "\n",
    "\n",
    "window.mainloop()"
   ]
  },
  {
   "cell_type": "code",
   "execution_count": 29,
   "outputs": [],
   "source": [
    "#move image in a canvas\n",
    "\n",
    "from tkinter import *\n",
    "\n",
    "def up(event):           #for this we will use the move function in canvases, the paramaters are as followed\n",
    "    canvas.move(myimage,    #image name\n",
    "                0,          #how many pixels you want to move on the x axis\n",
    "                -10)        #how many pixels you want to move on the y axis\n",
    "def down(event):\n",
    "    canvas.move(myimage, 0, 10)\n",
    "def left(event):\n",
    "    canvas.move(myimage, -10, 0)\n",
    "def right(event):\n",
    "    canvas.move(myimage, 10, 0)\n",
    "\n",
    "window = Tk()\n",
    "\n",
    "window.bind(\"<w>\", up)\n",
    "window.bind(\"<s>\", down)\n",
    "window.bind(\"<a>\", left)\n",
    "window.bind(\"<d>\", right)\n",
    "window.bind(\"<Up>\", up)\n",
    "window.bind(\"<Down>\", down)\n",
    "window.bind(\"<Left>\", left)\n",
    "window.bind(\"<Right>\", right)\n",
    "\n",
    "canvas =  Canvas(window, width=1820, height=980)\n",
    "canvas.pack()\n",
    "\n",
    "image = PhotoImage(file=\"photos\\\\racecar.png\")\n",
    "myimage = canvas.create_image(0,0,image=image,     #we need to add the image to the canvas so we do this, then we put the coords 0, 0\n",
    "                              anchor=NW)        #h0wever the 0,0 puts it above the top left so we anchor it north west to make the top left the highest it can go\n",
    "\n",
    "window.mainloop()"
   ],
   "metadata": {
    "collapsed": false
   }
  }
 ],
 "metadata": {
  "kernelspec": {
   "display_name": "Python 3",
   "language": "python",
   "name": "python3"
  },
  "language_info": {
   "codemirror_mode": {
    "name": "ipython",
    "version": 2
   },
   "file_extension": ".py",
   "mimetype": "text/x-python",
   "name": "python",
   "nbconvert_exporter": "python",
   "pygments_lexer": "ipython2",
   "version": "2.7.6"
  }
 },
 "nbformat": 4,
 "nbformat_minor": 0
}

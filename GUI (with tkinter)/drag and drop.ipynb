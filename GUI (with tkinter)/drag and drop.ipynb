{
 "cells": [
  {
   "cell_type": "code",
   "execution_count": 1,
   "metadata": {
    "collapsed": true
   },
   "outputs": [],
   "source": [
    "#this is for only 1 widget\n",
    "\n",
    "#you can drag and drop alot of widgets but we will use labels for this\n",
    "\n",
    "def drag_start(event):\n",
    "    label.startX = event.x       #gets the coords where clicked the label and assigns it to label.startY       for x coords\n",
    "    label.startY = event.y       #gets the coords where clicked the label and assigns it to label.startY      for y coords\n",
    "\n",
    "def drag_motion(event):\n",
    "    x = label.winfo_x() - label.startX + event.x\n",
    "    y = label.winfo_y() - label.startY + event.y\n",
    "    #label.winfo_x/y  =  top left coordinate of our label\n",
    "    #label.startX/Y = place where click the label\n",
    "    #event.x/y = where we begin dragging our widget to\n",
    "    label.place(x=x, y=y)      #places the label at where x coordinate = the x variable and same with y\n",
    "\n",
    "from tkinter import *\n",
    "\n",
    "window = Tk()\n",
    "\n",
    "label = Label(window, bg=\"blue\", width=10, height=5)\n",
    "label.place(x=0, y=0)\n",
    "\n",
    "label.bind(\"<Button-1>\", drag_start)      #we find where the label is, and whenever you left click on the label, the function will execute\n",
    "label.bind(\"<B1-Motion>\", drag_motion)     #this means when we hold down the left mouse button and drag\n",
    "\n",
    "window.mainloop()"
   ]
  },
  {
   "cell_type": "code",
   "execution_count": 3,
   "outputs": [],
   "source": [
    "#for more than one widget\n",
    "\n",
    "#you can drag and drop alot of widgets but we will use labels for this\n",
    "\n",
    "def drag_start(event):\n",
    "    widget = event.widget            #this allows the functions to be compatible with all widgets we make instead of just one\n",
    "    widget.startX = event.x       #gets the coords where clicked the label and assigns it to label.startY       for x coords\n",
    "    widget.startY = event.y       #gets the coords where clicked the label and assigns it to label.startY      for y coords\n",
    "\n",
    "def drag_motion(event):\n",
    "    widget = event.widget                                                        #we have to replace all labels with widget so that it become compatible\n",
    "    x = widget.winfo_x() - widget.startX + event.x\n",
    "    y = widget.winfo_y() - widget.startY + event.y\n",
    "    #label.winfo_x/y  =  top left coordinate of our label\n",
    "    #label.startX/Y = place where click the label\n",
    "    #event.x/y = where we begin dragging our widget to\n",
    "    widget.place(x=x, y=y)      #places the label at where x coordinate = the x variable and same with y\n",
    "\n",
    "from tkinter import *\n",
    "\n",
    "window = Tk()\n",
    "\n",
    "label = Label(window, bg=\"blue\", width=10, height=5)\n",
    "label.place(x=0, y=0)\n",
    "\n",
    "label.bind(\"<Button-1>\", drag_start)      #we find where the label is, and whenever you left click on the label, the function will execute\n",
    "label.bind(\"<B1-Motion>\", drag_motion)     #this means when we hold down the left mouse button and drag\n",
    "\n",
    "label2 = Label(window, bg=\"red\", width=10, height=5)      #creates a second label\n",
    "label2.place(x=100, y=100)                              #places it at those coords\n",
    "\n",
    "label2.bind(\"<Button-1>\", drag_start)       #binds label 2 as well\n",
    "label2.bind(\"<B1-Motion>\", drag_motion)\n",
    "\n",
    "window.mainloop()"
   ],
   "metadata": {
    "collapsed": false
   }
  }
 ],
 "metadata": {
  "kernelspec": {
   "display_name": "Python 3",
   "language": "python",
   "name": "python3"
  },
  "language_info": {
   "codemirror_mode": {
    "name": "ipython",
    "version": 2
   },
   "file_extension": ".py",
   "mimetype": "text/x-python",
   "name": "python",
   "nbconvert_exporter": "python",
   "pygments_lexer": "ipython2",
   "version": "2.7.6"
  }
 },
 "nbformat": 4,
 "nbformat_minor": 0
}

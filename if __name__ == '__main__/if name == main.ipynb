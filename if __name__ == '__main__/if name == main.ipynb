{
 "cells": [
  {
   "cell_type": "code",
   "execution_count": null,
   "metadata": {
    "collapsed": true,
    "pycharm": {
     "is_executing": true
    }
   },
   "outputs": [],
   "source": [
    " # if __name__ == '__main__'   is used to check if the script is being run directly or being imported as a module into another script"
   ]
  },
  {
   "cell_type": "code",
   "execution_count": null,
   "outputs": [],
   "source": [
    "#  when the script is run directly, the __name__ will be set to '__main__' so any code inside of the if name == main block will be executed"
   ],
   "metadata": {
    "collapsed": false
   }
  },
  {
   "cell_type": "code",
   "execution_count": null,
   "outputs": [],
   "source": [
    "#   if the script is being imported as a module, the __name__ will be set to whatever the name of the module is"
   ],
   "metadata": {
    "collapsed": false
   }
  },
  {
   "cell_type": "code",
   "execution_count": null,
   "outputs": [],
   "source": [
    "#this is useful when you have a script that can be executed on its own or as a module that can be imported in other programs\n",
    "\n",
    "#for an example of importing into another script, look at my_script1 and my_script2 and look at the output and the code"
   ],
   "metadata": {
    "collapsed": false
   }
  },
  {
   "cell_type": "code",
   "execution_count": 5,
   "outputs": [
    {
     "name": "stdout",
     "output_type": "stream",
     "text": [
      "__main__\n"
     ]
    }
   ],
   "source": [
    "#this is what happens if we do print(__name__)\n",
    "\n",
    "print(__name__)"
   ],
   "metadata": {
    "collapsed": false
   }
  },
  {
   "cell_type": "code",
   "execution_count": 7,
   "outputs": [
    {
     "name": "stdout",
     "output_type": "stream",
     "text": [
      "module_2\n"
     ]
    }
   ],
   "source": [
    "#we can import a module in\n",
    "\n",
    "import module_2\n",
    "print(module_2.__name__)"
   ],
   "metadata": {
    "collapsed": false
   }
  },
  {
   "cell_type": "code",
   "execution_count": 8,
   "outputs": [
    {
     "name": "stdout",
     "output_type": "stream",
     "text": [
      "directly\n"
     ]
    }
   ],
   "source": [
    "#check to see if a module is being run directly or indirectly\n",
    "\n",
    "if __name__ == \"__main__\":\n",
    "    print(\"directly\")\n",
    "else:\n",
    "    print(\"indirectly\")"
   ],
   "metadata": {
    "collapsed": false
   }
  }
 ],
 "metadata": {
  "kernelspec": {
   "display_name": "Python 3",
   "language": "python",
   "name": "python3"
  },
  "language_info": {
   "codemirror_mode": {
    "name": "ipython",
    "version": 2
   },
   "file_extension": ".py",
   "mimetype": "text/x-python",
   "name": "python",
   "nbconvert_exporter": "python",
   "pygments_lexer": "ipython2",
   "version": "2.7.6"
  }
 },
 "nbformat": 4,
 "nbformat_minor": 0
}

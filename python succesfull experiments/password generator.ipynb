{
 "cells": [
  {
   "cell_type": "code",
   "metadata": {
    "collapsed": true,
    "ExecuteTime": {
     "end_time": "2024-06-15T19:33:34.941909Z",
     "start_time": "2024-06-15T19:33:31.106265Z"
    }
   },
   "source": [
    "import random\n",
    "\n",
    "def generate(y, z):\n",
    "        num = int(input(\"\\nhow many \" + z + \" do you want?:\"))\n",
    "        for counter in range(num):\n",
    "            print(y[random.randint(0, len(y)-1)], end=\"\")\n",
    "\n",
    "alphabet = \"abcdefghijklmnopqrstuvwxyz\"\n",
    "capital_alphabet = \"ABCDEFGHIJKLMNOPQRSTUVWXYZ\"\n",
    "symbols = \"!£$%^&*()~_-+=?><,./|;:'@#~\"\n",
    "numbers = \"0123456789\"\n",
    "\n",
    "generate(alphabet, \"lowercase letters\")\n",
    "generate(capital_alphabet, \"upper case letters\")\n",
    "generate(symbols, \"symbols\")\n",
    "generate(numbers, \"numbers\")"
   ],
   "outputs": [
    {
     "ename": "ValueError",
     "evalue": "invalid literal for int() with base 10: ''",
     "output_type": "error",
     "traceback": [
      "\u001B[1;31m---------------------------------------------------------------------------\u001B[0m",
      "\u001B[1;31mValueError\u001B[0m                                Traceback (most recent call last)",
      "Cell \u001B[1;32mIn[1], line 13\u001B[0m\n\u001B[0;32m     10\u001B[0m symbols \u001B[38;5;241m=\u001B[39m \u001B[38;5;124m\"\u001B[39m\u001B[38;5;124m!£$\u001B[39m\u001B[38;5;124m%\u001B[39m\u001B[38;5;124m^&*()~_-+=?><,./|;:\u001B[39m\u001B[38;5;124m'\u001B[39m\u001B[38;5;124m@#~\u001B[39m\u001B[38;5;124m\"\u001B[39m\n\u001B[0;32m     11\u001B[0m numbers \u001B[38;5;241m=\u001B[39m \u001B[38;5;124m\"\u001B[39m\u001B[38;5;124m0123456789\u001B[39m\u001B[38;5;124m\"\u001B[39m\n\u001B[1;32m---> 13\u001B[0m \u001B[43mgenerate\u001B[49m\u001B[43m(\u001B[49m\u001B[43malphabet\u001B[49m\u001B[43m,\u001B[49m\u001B[43m \u001B[49m\u001B[38;5;124;43m\"\u001B[39;49m\u001B[38;5;124;43mlowercase letters\u001B[39;49m\u001B[38;5;124;43m\"\u001B[39;49m\u001B[43m)\u001B[49m\n\u001B[0;32m     14\u001B[0m generate(capital_alphabet, \u001B[38;5;124m\"\u001B[39m\u001B[38;5;124mupper case letters\u001B[39m\u001B[38;5;124m\"\u001B[39m)\n\u001B[0;32m     15\u001B[0m generate(symbols, \u001B[38;5;124m\"\u001B[39m\u001B[38;5;124msymbols\u001B[39m\u001B[38;5;124m\"\u001B[39m)\n",
      "Cell \u001B[1;32mIn[1], line 4\u001B[0m, in \u001B[0;36mgenerate\u001B[1;34m(y, z)\u001B[0m\n\u001B[0;32m      3\u001B[0m \u001B[38;5;28;01mdef\u001B[39;00m \u001B[38;5;21mgenerate\u001B[39m(y, z):\n\u001B[1;32m----> 4\u001B[0m         num \u001B[38;5;241m=\u001B[39m \u001B[38;5;28;43mint\u001B[39;49m\u001B[43m(\u001B[49m\u001B[38;5;28;43minput\u001B[39;49m\u001B[43m(\u001B[49m\u001B[38;5;124;43m\"\u001B[39;49m\u001B[38;5;130;43;01m\\n\u001B[39;49;00m\u001B[38;5;124;43mhow many \u001B[39;49m\u001B[38;5;124;43m\"\u001B[39;49m\u001B[43m \u001B[49m\u001B[38;5;241;43m+\u001B[39;49m\u001B[43m \u001B[49m\u001B[43mz\u001B[49m\u001B[43m \u001B[49m\u001B[38;5;241;43m+\u001B[39;49m\u001B[43m \u001B[49m\u001B[38;5;124;43m\"\u001B[39;49m\u001B[38;5;124;43m do you want?:\u001B[39;49m\u001B[38;5;124;43m\"\u001B[39;49m\u001B[43m)\u001B[49m\u001B[43m)\u001B[49m\n\u001B[0;32m      5\u001B[0m         \u001B[38;5;28;01mfor\u001B[39;00m counter \u001B[38;5;129;01min\u001B[39;00m \u001B[38;5;28mrange\u001B[39m(num):\n\u001B[0;32m      6\u001B[0m             \u001B[38;5;28mprint\u001B[39m(y[random\u001B[38;5;241m.\u001B[39mrandint(\u001B[38;5;241m0\u001B[39m, \u001B[38;5;28mlen\u001B[39m(y)\u001B[38;5;241m-\u001B[39m\u001B[38;5;241m1\u001B[39m)], end\u001B[38;5;241m=\u001B[39m\u001B[38;5;124m\"\u001B[39m\u001B[38;5;124m\"\u001B[39m)\n",
      "\u001B[1;31mValueError\u001B[0m: invalid literal for int() with base 10: ''"
     ]
    }
   ],
   "execution_count": 1
  },
  {
   "metadata": {
    "ExecuteTime": {
     "end_time": "2024-06-15T19:33:45.239882Z",
     "start_time": "2024-06-15T19:33:45.235044Z"
    }
   },
   "cell_type": "code",
   "source": "print(\"hello world\")",
   "outputs": [
    {
     "name": "stdout",
     "output_type": "stream",
     "text": [
      "hello world\n"
     ]
    }
   ],
   "execution_count": 2
  },
  {
   "metadata": {},
   "cell_type": "code",
   "outputs": [],
   "execution_count": null,
   "source": ""
  }
 ],
 "metadata": {
  "kernelspec": {
   "display_name": "Python 3",
   "language": "python",
   "name": "python3"
  },
  "language_info": {
   "codemirror_mode": {
    "name": "ipython",
    "version": 2
   },
   "file_extension": ".py",
   "mimetype": "text/x-python",
   "name": "python",
   "nbconvert_exporter": "python",
   "pygments_lexer": "ipython2",
   "version": "2.7.6"
  }
 },
 "nbformat": 4,
 "nbformat_minor": 0
}

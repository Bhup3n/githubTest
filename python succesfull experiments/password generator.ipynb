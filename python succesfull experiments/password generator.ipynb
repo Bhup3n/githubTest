{
 "cells": [
  {
   "cell_type": "code",
   "execution_count": 1,
   "metadata": {
    "collapsed": true
   },
   "outputs": [
    {
     "name": "stdout",
     "output_type": "stream",
     "text": [
      "nfSSP;&<;'?#^879"
     ]
    }
   ],
   "source": [
    "import random\n",
    "\n",
    "def generate(y, z):\n",
    "        num = int(input(\"\\nhow many \" + z + \" do you want?:\"))\n",
    "        for counter in range(num):\n",
    "            print(y[random.randint(0, len(y)-1)], end=\"\")\n",
    "\n",
    "alphabet = \"abcdefghijklmnopqrstuvwxyz\"\n",
    "capital_alphabet = \"ABCDEFGHIJKLMNOPQRSTUVWXYZ\"\n",
    "symbols = \"!£$%^&*()~_-+=?><,./|;:'@#~\"\n",
    "numbers = \"0123456789\"\n",
    "\n",
    "generate(alphabet, \"lowercase letters\")\n",
    "generate(capital_alphabet, \"upper case letters\")\n",
    "generate(symbols, \"symbols\")\n",
    "generate(numbers, \"numbers\")"
   ]
  }
 ],
 "metadata": {
  "kernelspec": {
   "display_name": "Python 3",
   "language": "python",
   "name": "python3"
  },
  "language_info": {
   "codemirror_mode": {
    "name": "ipython",
    "version": 2
   },
   "file_extension": ".py",
   "mimetype": "text/x-python",
   "name": "python",
   "nbconvert_exporter": "python",
   "pygments_lexer": "ipython2",
   "version": "2.7.6"
  }
 },
 "nbformat": 4,
 "nbformat_minor": 0
}

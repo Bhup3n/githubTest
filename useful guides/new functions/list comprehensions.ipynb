{
 "cells": [
  {
   "cell_type": "code",
   "execution_count": null,
   "metadata": {
    "collapsed": true
   },
   "outputs": [],
   "source": [
    "#list comprehensions = a way to create a new list with less syntax\n",
    "#                      can perform certain lambda functions\n",
    "#   list = [expression (if/else) for item in iterable]          iterable(list, tuple, etc...)\n",
    "#             (if/else) = optional"
   ]
  },
  {
   "cell_type": "code",
   "execution_count": 3,
   "outputs": [
    {
     "name": "stdout",
     "output_type": "stream",
     "text": [
      "[1, 2, 3, 4, 5, 6, 7, 8, 9, 10, 11]\n"
     ]
    }
   ],
   "source": [
    "#squares = []\n",
    "#for i in range(0,11):\n",
    "#   squares.append(i + 1)\n",
    "#print(squares)\n",
    "\n",
    "#the output would be a list of 1 through 11\n",
    "#however we can get the same with the code below\n",
    "\n",
    "squares = [i + 1 for i in range(0,11)]\n",
    "print(squares)\n",
    "\n",
    "#breakdown:\n",
    "#\"i+1\" = expression\n",
    "#\"i\" = item\n",
    "#\"range(0,11)\" = iterable"
   ],
   "metadata": {
    "collapsed": false
   }
  },
  {
   "cell_type": "code",
   "execution_count": 5,
   "outputs": [
    {
     "name": "stdout",
     "output_type": "stream",
     "text": [
      "[100, 90, 80, 70, 60]\n"
     ]
    }
   ],
   "source": [
    "students = [100, 90, 80, 70, 60, 50, 40, 30, 0]             #scores of students\n",
    "\n",
    "#passed_students = list(filter(lambda x: x >= 60, students))\n",
    "\n",
    "#this filters the results of who got 60 or higher\n",
    "#a shorter way is below\n",
    "\n",
    "passed_students = [i for i in students if i >= 60]\n",
    "print(passed_students)"
   ],
   "metadata": {
    "collapsed": false
   }
  },
  {
   "cell_type": "code",
   "execution_count": 6,
   "outputs": [
    {
     "name": "stdout",
     "output_type": "stream",
     "text": [
      "[100, 90, 80, 70, 60, 'failed', 'failed', 'failed', 'failed']\n"
     ]
    }
   ],
   "source": [
    "#if we want to do the above but include if/else statement, we do this\n",
    "\n",
    "passed_students = [i if i >= 60 else \"failed\" for i in students]\n",
    "print(passed_students)"
   ],
   "metadata": {
    "collapsed": false
   }
  }
 ],
 "metadata": {
  "kernelspec": {
   "display_name": "Python 3",
   "language": "python",
   "name": "python3"
  },
  "language_info": {
   "codemirror_mode": {
    "name": "ipython",
    "version": 2
   },
   "file_extension": ".py",
   "mimetype": "text/x-python",
   "name": "python",
   "nbconvert_exporter": "python",
   "pygments_lexer": "ipython2",
   "version": "2.7.6"
  }
 },
 "nbformat": 4,
 "nbformat_minor": 0
}

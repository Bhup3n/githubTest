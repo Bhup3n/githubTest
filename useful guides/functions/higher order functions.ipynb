{
 "cells": [
  {
   "cell_type": "code",
   "execution_count": null,
   "metadata": {
    "collapsed": true
   },
   "outputs": [],
   "source": [
    "higher order function either\n",
    "\n",
    "accepts a functions as an argument\n",
    "or\n",
    "returns a function"
   ]
  },
  {
   "cell_type": "code",
   "execution_count": 2,
   "outputs": [
    {
     "name": "stdout",
     "output_type": "stream",
     "text": [
      "HELLO\n",
      "hello\n"
     ]
    }
   ],
   "source": [
    "#accepts a function as an argument\n",
    "\n",
    "def loud(text):\n",
    "    return text.upper()              #going to be  used as an argument\n",
    "\n",
    "def quiet(text):\n",
    "    return text.lower()             #going to be  used as an argument\n",
    "\n",
    "def hello(function):                 #the \"function\" in brackets is going to be one of the functions as an argument\n",
    "    text = function(\"hello\")\n",
    "    print(text)\n",
    "\n",
    "hello(loud)\n",
    "hello(quiet)"
   ],
   "metadata": {
    "collapsed": false
   }
  },
  {
   "cell_type": "code",
   "execution_count": 3,
   "outputs": [
    {
     "name": "stdout",
     "output_type": "stream",
     "text": [
      "5.0\n"
     ]
    }
   ],
   "source": [
    "#returns a function\n",
    "\n",
    "def divisor(x):  #the outer function\n",
    "    def dividend(y):\n",
    "        return y / x  #returns dividend / divisor\n",
    "\n",
    "    return dividend  #has to be in the outer function\n",
    "\n",
    "\n",
    "divide = divisor(2)\n",
    "print(divide(10))  #divides 10 by 2"
   ],
   "metadata": {
    "collapsed": false
   }
  }
 ],
 "metadata": {
  "kernelspec": {
   "display_name": "Python 3",
   "language": "python",
   "name": "python3"
  },
  "language_info": {
   "codemirror_mode": {
    "name": "ipython",
    "version": 2
   },
   "file_extension": ".py",
   "mimetype": "text/x-python",
   "name": "python",
   "nbconvert_exporter": "python",
   "pygments_lexer": "ipython2",
   "version": "2.7.6"
  }
 },
 "nbformat": 4,
 "nbformat_minor": 0
}

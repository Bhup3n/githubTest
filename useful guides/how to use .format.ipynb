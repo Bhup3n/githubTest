{
 "cells": [
  {
   "cell_type": "code",
   "execution_count": 2,
   "metadata": {
    "collapsed": true
   },
   "outputs": [
    {
     "ename": "SyntaxError",
     "evalue": "invalid syntax (1840622876.py, line 1)",
     "output_type": "error",
     "traceback": [
      "\u001B[1;36m  Cell \u001B[1;32mIn [2], line 1\u001B[1;36m\u001B[0m\n\u001B[1;33m    format uses curly brackets {}\u001B[0m\n\u001B[1;37m           ^\u001B[0m\n\u001B[1;31mSyntaxError\u001B[0m\u001B[1;31m:\u001B[0m invalid syntax\n"
     ]
    }
   ],
   "source": [
    "format uses curly brackets {}"
   ]
  },
  {
   "cell_type": "code",
   "execution_count": 3,
   "outputs": [
    {
     "name": "stdout",
     "output_type": "stream",
     "text": [
      "my name is john, im 36\n",
      "my name is john, im 36\n",
      "my name is john, im 36\n"
     ]
    }
   ],
   "source": [
    "#an example using named indexes\n",
    "test1 = \"my name is {name}, im {age}\".format(name = \"john\", age = 36)\n",
    "#an example using numbered indexes\n",
    "test2 = \"my name is {0}, im {1}\".format(\"john\", 36)\n",
    "#an example using empty placeholders\n",
    "test3 = \"my name is {}, im {}\".format(\"john\", 36)\n",
    "\n",
    "print(test1)\n",
    "print(test2)\n",
    "print(test3)"
   ],
   "metadata": {
    "collapsed": false
   }
  },
  {
   "cell_type": "code",
   "execution_count": 4,
   "outputs": [
    {
     "name": "stdout",
     "output_type": "stream",
     "text": [
      "this is t1, we have 49         chickens\n",
      "this is t2, we have            29 chickens\n",
      "this is t3, we have    62     chickens\n",
      "this is t4, temp is -      5 degrees\n",
      "this is t5, the temp is between -3 and +7 degrees\n",
      "this is t6, the temp is between -3 and 7 degrees\n",
      "the temp is between   -3 and         7\n",
      "this is t8, my high score is 86,000,000\n",
      "this is t9, the binary version of 5 is 101\n"
     ]
    }
   ],
   "source": [
    "#the below are most of the formatting types and what they do with examples\n",
    "\n",
    "#  :< will make the result go to the left and have some space after it\n",
    "t1 = \"this is t1, we have {:<10} chickens\"   #the number \"10\" chooses how much space there is after the result \"49\"\n",
    "print(t1.format(49))\n",
    "\n",
    "#   :> will make the result go to the right and have some space after it\n",
    "t2 = \"this is t2, we have {:>13} chickens\"   #the number \"13\" chooses how much space there is after the result \"29\"\n",
    "print(t2.format(29))\n",
    "\n",
    "#   :^ will have the result in the middle\n",
    "t3 = \"this is t3, we have {:^9} chickens\"\n",
    "print(t3.format(62))\n",
    "\n",
    "#   := places the sign to the left most position\n",
    "t4 = \"this is t4, temp is {:=8} degrees\"\n",
    "print(t4.format(-5))\n",
    "\n",
    "#   :+  uses a plus sign to indicate if the result is negative or positive\n",
    "t5 = \"this is t5, the temp is between {:+} and {:+} degrees\"\n",
    "print(t5.format(-3, 7))\n",
    "\n",
    "#   :- use a minus sign for negative values only\n",
    "t6 = \"this is t6, the temp is between {:-} and {:-} degrees\"\n",
    "print(t6.format(-3, 7))\n",
    "\n",
    "#   :  uses a space before positive numbers and a minus sign before negative numbers\n",
    "t7 = \"the temp is between {:4} and {:9}\"\n",
    "print(t7.format(-3, 7))\n",
    "\n",
    "#  :,  use a comma as a thousand seperator\n",
    "t8 = \"this is t8, my high score is {:,}\"\n",
    "print(t8.format(86000000))\n",
    "\n",
    "#   :b  turns numbers into the binary format\n",
    "t9 = \"this is t9, the binary version of {0} is {0:b}\"  #HAVE to put 0 in the brackets and the 0 before the :b\n",
    "print(t9.format(5))"
   ],
   "metadata": {
    "collapsed": false
   }
  },
  {
   "cell_type": "code",
   "execution_count": 5,
   "outputs": [
    {
     "name": "stdout",
     "output_type": "stream",
     "text": [
      "Make          Model        Engine Size   Fuel     Hybrid \n",
      "Mitsubishi    Outlander        2.0       Petrol   True   \n",
      "Peugeot       305              1.4       Petrol   False  \n",
      "Seat          Ibiza            1.1       Petrol   False  \n",
      "Ford          Mondeo           1.6       Diesel   False  \n"
     ]
    }
   ],
   "source": [
    "#when you may use formatting\n",
    "\n",
    "cars = [ [\"Mitsubishi\", \"Outlander\", 2.0, \"Petrol\", True],\n",
    "         [\"Peugeot\", \"305\", 1.4, \"Petrol\", False],\n",
    "         [\"Seat\", \"Ibiza\", 1.1, \"Petrol\", False],\n",
    "         [\"Ford\", \"Mondeo\", 1.6, \"Diesel\", False] ]\n",
    "\n",
    "f = \"{:<13} {:11} {:^14} {:8} {:7}\"\n",
    "print(f.format(\"Make\", \"Model\", \"Engine Size\", \"Fuel\", \"Hybrid\"))\n",
    "for car in cars:\n",
    "    print(f.format(car[0], car[1], car[2], car[3], str(car[4])))  #you have to turn car 4 into an str because otherwise it would print the hybrid section in numbers"
   ],
   "metadata": {
    "collapsed": false
   }
  },
  {
   "cell_type": "code",
   "execution_count": 6,
   "outputs": [
    {
     "name": "stdout",
     "output_type": "stream",
     "text": [
      "Make         Model       Engine Size  \n",
      "Mitsubishi   Outlander       2.0      \n",
      "Ford         Mondeo          1.6      \n"
     ]
    }
   ],
   "source": [
    "#to use it to find a certain criteria\n",
    "#oonly show cars with engine size gretater than 1.5\n",
    "\n",
    "cars = [ [\"Mitsubishi\", \"Outlander\", 2.0, \"Petrol\", True],\n",
    "         [\"Peugeot\", \"305\", 1.4, \"Petrol\", False],\n",
    "         [\"Seat\", \"Ibiza\", 1.1, \"Petrol\", False],\n",
    "         [\"Ford\", \"Mondeo\", 1.6, \"Diesel\", False] ]\n",
    "myFormat = \"{:<13}{:11}{:^14}\"\n",
    "print(myFormat.format(\"Make\", \"Model\", \"Engine Size\"))\n",
    "for car in cars:\n",
    "    if car[2] > 1.5:\n",
    "        print(myFormat.format(car[0], car[1], car[2]))"
   ],
   "metadata": {
    "collapsed": false
   }
  }
 ],
 "metadata": {
  "kernelspec": {
   "display_name": "Python 3",
   "language": "python",
   "name": "python3"
  },
  "language_info": {
   "codemirror_mode": {
    "name": "ipython",
    "version": 2
   },
   "file_extension": ".py",
   "mimetype": "text/x-python",
   "name": "python",
   "nbconvert_exporter": "python",
   "pygments_lexer": "ipython2",
   "version": "2.7.6"
  }
 },
 "nbformat": 4,
 "nbformat_minor": 0
}

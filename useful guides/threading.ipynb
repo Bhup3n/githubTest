{
 "cells": [
  {
   "cell_type": "code",
   "execution_count": 11,
   "metadata": {
    "collapsed": true
   },
   "outputs": [],
   "source": [
    "#with threading, we can have multiple tasks happening at once"
   ]
  },
  {
   "cell_type": "code",
   "execution_count": 13,
   "outputs": [],
   "source": [
    "#an example of using it\n",
    "\n",
    "import threading\n",
    "import time\n",
    "\n",
    "def breakfast(num):\n",
    "    time.sleep(num)\n",
    "    print(\"you ate breakfast\")\n",
    "\n",
    "def drink_water():\n",
    "    time.sleep(4)\n",
    "    print(\"you drank water\")\n",
    "\n",
    "\n",
    "#breakfast(3)\n",
    "#drink_water()                                 with these 2 lines of code, it would take 7 seconds to print both the statements\n",
    "\n",
    "#but we can multitask with doing this\n",
    "\n",
    "x = threading.Thread(target = breakfast, args = (3,))     # have to put a comma after the 3\n",
    "\n",
    "y = threading.Thread(target = drink_water, args = ())              #target = function name     and    args = parameters inside of the function\n",
    "\n",
    "x.start()\n",
    "y.start()                                #now it will print both in 4 seconds\n",
    "\n",
    "#code not working in notebook!  copy and paste into a python file"
   ],
   "metadata": {
    "collapsed": false
   }
  }
 ],
 "metadata": {
  "kernelspec": {
   "display_name": "Python 3",
   "language": "python",
   "name": "python3"
  },
  "language_info": {
   "codemirror_mode": {
    "name": "ipython",
    "version": 2
   },
   "file_extension": ".py",
   "mimetype": "text/x-python",
   "name": "python",
   "nbconvert_exporter": "python",
   "pygments_lexer": "ipython2",
   "version": "2.7.6"
  }
 },
 "nbformat": 4,
 "nbformat_minor": 0
}
